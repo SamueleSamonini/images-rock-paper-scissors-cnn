{
 "cells": [
  {
   "cell_type": "code",
   "execution_count": 1,
   "id": "9997e803",
   "metadata": {},
   "outputs": [],
   "source": [
    "# Rock-Paper-Scissors Dataset Exploration\n",
    "# ML Project A.Y. 2024/25\n",
    "\n",
    "import os\n",
    "import numpy as np\n",
    "import pandas as pd\n",
    "import matplotlib.pyplot as plt\n",
    "import seaborn as sns\n",
    "from PIL import Image\n",
    "import cv2\n",
    "from collections import Counter\n",
    "import warnings\n",
    "warnings.filterwarnings('ignore')"
   ]
  },
  {
   "cell_type": "code",
   "execution_count": 2,
   "id": "accdde6c",
   "metadata": {},
   "outputs": [],
   "source": [
    "# Set plotting style\n",
    "plt.style.use('default')\n",
    "sns.set_palette(\"husl\")"
   ]
  },
  {
   "cell_type": "markdown",
   "id": "a7b85449",
   "metadata": {},
   "source": [
    "1. DATASET OVERVIEW\n"
   ]
  },
  {
   "cell_type": "code",
   "execution_count": 5,
   "id": "42e249ab",
   "metadata": {},
   "outputs": [
    {
     "name": "stdout",
     "output_type": "stream",
     "text": [
      "\n",
      "1. DATASET OVERVIEW\n",
      "------------------------------\n",
      "Rock: 726 images\n",
      "Paper: 712 images\n",
      "Scissors: 750 images\n",
      "\n",
      "Total images: 2188\n",
      "Average per class: 729.3\n"
     ]
    }
   ],
   "source": [
    "# Define paths\n",
    "data_path = '../data'\n",
    "classes = ['rock', 'paper', 'scissors']\n",
    "\n",
    "print(\"\\n1. DATASET OVERVIEW\")\n",
    "print(\"-\" * 30)\n",
    "\n",
    "# Count images per class\n",
    "class_counts = {}\n",
    "total_images = 0\n",
    "\n",
    "for class_name in classes:\n",
    "    class_path = os.path.join(data_path, class_name)\n",
    "    if os.path.exists(class_path):\n",
    "        count = len([f for f in os.listdir(class_path) if f.lower().endswith(('.png', '.jpg', '.jpeg'))])\n",
    "        class_counts[class_name] = count\n",
    "        total_images += count\n",
    "        print(f\"{class_name.capitalize()}: {count} images\")\n",
    "\n",
    "print(f\"\\nTotal images: {total_images}\")\n",
    "print(f\"Average per class: {total_images/len(classes):.1f}\")"
   ]
  }
 ],
 "metadata": {
  "kernelspec": {
   "display_name": "rps-cnn",
   "language": "python",
   "name": "python3"
  },
  "language_info": {
   "codemirror_mode": {
    "name": "ipython",
    "version": 3
   },
   "file_extension": ".py",
   "mimetype": "text/x-python",
   "name": "python",
   "nbconvert_exporter": "python",
   "pygments_lexer": "ipython3",
   "version": "3.10.18"
  }
 },
 "nbformat": 4,
 "nbformat_minor": 5
}
