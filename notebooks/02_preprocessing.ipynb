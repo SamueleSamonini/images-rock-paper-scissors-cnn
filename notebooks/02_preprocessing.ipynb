{
 "cells": [
  {
   "cell_type": "markdown",
   "id": "7c2c8ee9",
   "metadata": {},
   "source": [
    "# Rock-Paper-Scissors Dataset Preprocessing"
   ]
  },
  {
   "cell_type": "code",
   "execution_count": null,
   "id": "f1ef1afe",
   "metadata": {},
   "outputs": [
    {
     "name": "stderr",
     "output_type": "stream",
     "text": [
      "2025-07-04 22:28:00.365551: I tensorflow/core/platform/cpu_feature_guard.cc:210] This TensorFlow binary is optimized to use available CPU instructions in performance-critical operations.\n",
      "To enable the following instructions: AVX2 FMA, in other operations, rebuild TensorFlow with the appropriate compiler flags.\n"
     ]
    }
   ],
   "source": [
    "import os\n",
    "import numpy as np\n",
    "import pandas as pd\n",
    "import matplotlib.pyplot as plt\n",
    "import seaborn as sns\n",
    "from PIL import Image\n",
    "import cv2\n",
    "from sklearn.model_selection import train_test_split\n",
    "from sklearn.preprocessing import LabelEncoder\n",
    "import tensorflow as tf\n",
    "from tensorflow.keras.preprocessing.image import ImageDataGenerator\n",
    "from tensorflow.keras.utils import to_categorical\n",
    "import pickle\n",
    "import warnings\n",
    "warnings.filterwarnings('ignore')\n",
    "\n",
    "# Set random seeds for reproducibility\n",
    "np.random.seed(42)\n",
    "tf.random.set_seed(42)"
   ]
  },
  {
   "cell_type": "markdown",
   "id": "5b018071",
   "metadata": {},
   "source": [
    "## 1. CONFIGURATION AND SETUP"
   ]
  },
  {
   "cell_type": "code",
   "execution_count": 2,
   "id": "e060acf9",
   "metadata": {},
   "outputs": [
    {
     "name": "stdout",
     "output_type": "stream",
     "text": [
      "\n",
      "1. CONFIGURATION AND SETUP\n",
      "-----------------------------------\n",
      "Configuration:\n",
      "  data_path: ../data\n",
      "  output_path: ../processed_data\n",
      "  classes: ['rock', 'paper', 'scissors']\n",
      "  img_size: (128, 128)\n",
      "  batch_size: 32\n",
      "  test_size: 0.2\n",
      "  val_size: 0.2\n",
      "  random_state: 42\n",
      "  normalize: True\n",
      "  augmentation: True\n"
     ]
    }
   ],
   "source": [
    "print(\"\\n1. CONFIGURATION AND SETUP\")\n",
    "print(\"-\" * 35)\n",
    "\n",
    "# Define configuration\n",
    "CONFIG = {\n",
    "    'data_path': '../data',\n",
    "    'output_path': '../processed_data',\n",
    "    'classes': ['rock', 'paper', 'scissors'],\n",
    "    'img_size': (128, 128),  # Resize to 128x128 for efficiency\n",
    "    'batch_size': 32,\n",
    "    'test_size': 0.2,\n",
    "    'val_size': 0.2,  # 20% of training data for validation\n",
    "    'random_state': 42,\n",
    "    'normalize': True,\n",
    "    'augmentation': True\n",
    "}\n",
    "\n",
    "# Create output directory\n",
    "os.makedirs(CONFIG['output_path'], exist_ok=True)\n",
    "\n",
    "print(f\"Configuration:\")\n",
    "for key, value in CONFIG.items():\n",
    "    print(f\"  {key}: {value}\")"
   ]
  },
  {
   "cell_type": "markdown",
   "id": "9b606dd3",
   "metadata": {},
   "source": [
    "## 2. DATA LOADING AND INITIAL PROCESSING"
   ]
  },
  {
   "cell_type": "code",
   "execution_count": 3,
   "id": "b6d9fc70",
   "metadata": {},
   "outputs": [
    {
     "name": "stdout",
     "output_type": "stream",
     "text": [
      "\n",
      "2. DATA LOADING AND INITIAL PROCESSING\n",
      "---------------------------------------------\n",
      "Loading images with target size: (128, 128)\n",
      "Loading 726 images from rock...\n",
      "  Processed 100/726 images\n",
      "  Processed 200/726 images\n",
      "  Processed 300/726 images\n",
      "  Processed 400/726 images\n",
      "  Processed 500/726 images\n",
      "  Processed 600/726 images\n",
      "  Processed 700/726 images\n",
      "Loading 712 images from paper...\n",
      "  Processed 100/712 images\n",
      "  Processed 200/712 images\n",
      "  Processed 300/712 images\n",
      "  Processed 400/712 images\n",
      "  Processed 500/712 images\n",
      "  Processed 600/712 images\n",
      "  Processed 700/712 images\n",
      "Loading 750 images from scissors...\n",
      "  Processed 100/750 images\n",
      "  Processed 200/750 images\n",
      "  Processed 300/750 images\n",
      "  Processed 400/750 images\n",
      "  Processed 500/750 images\n",
      "  Processed 600/750 images\n",
      "  Processed 700/750 images\n",
      "\n",
      "Dataset loaded successfully:\n",
      "  Images shape: (2188, 128, 128, 3)\n",
      "  Labels shape: (2188,)\n",
      "  Label mapping: {'rock': 0, 'paper': 1, 'scissors': 2}\n"
     ]
    }
   ],
   "source": [
    "print(\"\\n2. DATA LOADING AND INITIAL PROCESSING\")\n",
    "print(\"-\" * 45)\n",
    "\n",
    "def load_dataset(data_path, classes, img_size):\n",
    "    \"\"\"\n",
    "    Load all images from the dataset\n",
    "    \n",
    "    Returns:\n",
    "        X: numpy array of images\n",
    "        y: numpy array of labels\n",
    "        label_mapping: dictionary mapping class names to indices\n",
    "    \"\"\"\n",
    "    images = []\n",
    "    labels = []\n",
    "    label_mapping = {class_name: idx for idx, class_name in enumerate(classes)}\n",
    "    \n",
    "    print(f\"Loading images with target size: {img_size}\")\n",
    "    \n",
    "    for class_name in classes:\n",
    "        class_path = os.path.join(data_path, class_name)\n",
    "        if not os.path.exists(class_path):\n",
    "            print(f\"Warning: Path {class_path} does not exist\")\n",
    "            continue\n",
    "            \n",
    "        files = [f for f in os.listdir(class_path) if f.lower().endswith(('.png', '.jpg', '.jpeg'))]\n",
    "        print(f\"Loading {len(files)} images from {class_name}...\")\n",
    "        \n",
    "        for i, file_name in enumerate(files):\n",
    "            file_path = os.path.join(class_path, file_name)\n",
    "            try:\n",
    "                # Load and resize image\n",
    "                img = Image.open(file_path)\n",
    "                img = img.convert('RGB')  # Ensure RGB format\n",
    "                img = img.resize(img_size, Image.LANCZOS)  # High-quality resizing\n",
    "                \n",
    "                # Convert to numpy array\n",
    "                img_array = np.array(img, dtype=np.float32)\n",
    "                \n",
    "                images.append(img_array)\n",
    "                labels.append(label_mapping[class_name])\n",
    "                \n",
    "                # Progress indicator\n",
    "                if (i + 1) % 100 == 0:\n",
    "                    print(f\"  Processed {i + 1}/{len(files)} images\")\n",
    "                    \n",
    "            except Exception as e:\n",
    "                print(f\"Error loading {file_path}: {e}\")\n",
    "                continue\n",
    "    \n",
    "    # Convert to numpy arrays\n",
    "    X = np.array(images, dtype=np.float32)\n",
    "    y = np.array(labels)\n",
    "    \n",
    "    print(f\"\\nDataset loaded successfully:\")\n",
    "    print(f\"  Images shape: {X.shape}\")\n",
    "    print(f\"  Labels shape: {y.shape}\")\n",
    "    print(f\"  Label mapping: {label_mapping}\")\n",
    "    \n",
    "    return X, y, label_mapping\n",
    "\n",
    "# Load the dataset\n",
    "X, y, label_mapping = load_dataset(CONFIG['data_path'], CONFIG['classes'], CONFIG['img_size'])"
   ]
  },
  {
   "cell_type": "markdown",
   "id": "2cf7ec71",
   "metadata": {},
   "source": [
    "## 3. DATA NORMALIZATION"
   ]
  },
  {
   "cell_type": "code",
   "execution_count": 4,
   "id": "b4fe3794",
   "metadata": {},
   "outputs": [
    {
     "name": "stdout",
     "output_type": "stream",
     "text": [
      "\n",
      "3. DATA NORMALIZATION\n",
      "-------------------------\n",
      "Original pixel value range: [0.00, 255.00]\n",
      "Normalized pixel value range: [0.00, 1.00]\n"
     ]
    }
   ],
   "source": [
    "print(\"\\n3. DATA NORMALIZATION\")\n",
    "print(\"-\" * 25)\n",
    "\n",
    "def normalize_images(X):\n",
    "    \"\"\"Normalize pixel values to [0, 1] range\"\"\"\n",
    "    print(f\"Original pixel value range: [{X.min():.2f}, {X.max():.2f}]\")\n",
    "    \n",
    "    # Normalize to [0, 1]\n",
    "    X_normalized = X / 255.0\n",
    "    \n",
    "    print(f\"Normalized pixel value range: [{X_normalized.min():.2f}, {X_normalized.max():.2f}]\")\n",
    "    \n",
    "    return X_normalized\n",
    "\n",
    "if CONFIG['normalize']:\n",
    "    X_normalized = normalize_images(X)\n",
    "else:\n",
    "    X_normalized = X.copy()"
   ]
  }
 ],
 "metadata": {
  "kernelspec": {
   "display_name": "rps-cnn",
   "language": "python",
   "name": "python3"
  },
  "language_info": {
   "codemirror_mode": {
    "name": "ipython",
    "version": 3
   },
   "file_extension": ".py",
   "mimetype": "text/x-python",
   "name": "python",
   "nbconvert_exporter": "python",
   "pygments_lexer": "ipython3",
   "version": "3.10.18"
  }
 },
 "nbformat": 4,
 "nbformat_minor": 5
}
